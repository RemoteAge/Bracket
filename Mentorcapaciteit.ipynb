{
  "nbformat": 4,
  "nbformat_minor": 0,
  "metadata": {
    "colab": {
      "provenance": [],
      "authorship_tag": "ABX9TyOJykeMf1T1KFuyyo0k7/bc",
      "include_colab_link": true
    },
    "kernelspec": {
      "name": "python3",
      "display_name": "Python 3"
    },
    "language_info": {
      "name": "python"
    }
  },
  "cells": [
    {
      "cell_type": "markdown",
      "metadata": {
        "id": "view-in-github",
        "colab_type": "text"
      },
      "source": [
        "<a href=\"https://colab.research.google.com/github/RemoteAge/Bracket/blob/master/Mentorcapaciteit.ipynb\" target=\"_parent\"><img src=\"https://colab.research.google.com/assets/colab-badge.svg\" alt=\"Open In Colab\"/></a>"
      ]
    },
    {
      "cell_type": "code",
      "source": [
        "!pip install pymysql\n",
        "\n",
        "!pip install pandas\n",
        "\n",
        "!pip install sshtunnel\n",
        "\n"
      ],
      "metadata": {
        "colab": {
          "base_uri": "https://localhost:8080/"
        },
        "id": "DYr8TGTcuhB5",
        "outputId": "d46b3b71-1093-4d0e-f472-a35764934b06",
        "collapsed": true
      },
      "execution_count": 2,
      "outputs": [
        {
          "output_type": "stream",
          "name": "stdout",
          "text": [
            "Collecting pymysql\n",
            "  Downloading pymysql-1.1.2-py3-none-any.whl.metadata (4.3 kB)\n",
            "Downloading pymysql-1.1.2-py3-none-any.whl (45 kB)\n",
            "\u001b[?25l   \u001b[90m━━━━━━━━━━━━━━━━━━━━━━━━━━━━━━━━━━━━━━━━\u001b[0m \u001b[32m0.0/45.3 kB\u001b[0m \u001b[31m?\u001b[0m eta \u001b[36m-:--:--\u001b[0m\r\u001b[2K   \u001b[90m━━━━━━━━━━━━━━━━━━━━━━━━━━━━━━━━━━━━━━━━\u001b[0m \u001b[32m45.3/45.3 kB\u001b[0m \u001b[31m2.4 MB/s\u001b[0m eta \u001b[36m0:00:00\u001b[0m\n",
            "\u001b[?25hInstalling collected packages: pymysql\n",
            "Successfully installed pymysql-1.1.2\n",
            "Requirement already satisfied: pandas in /usr/local/lib/python3.12/dist-packages (2.2.2)\n",
            "Requirement already satisfied: numpy>=1.26.0 in /usr/local/lib/python3.12/dist-packages (from pandas) (2.0.2)\n",
            "Requirement already satisfied: python-dateutil>=2.8.2 in /usr/local/lib/python3.12/dist-packages (from pandas) (2.9.0.post0)\n",
            "Requirement already satisfied: pytz>=2020.1 in /usr/local/lib/python3.12/dist-packages (from pandas) (2025.2)\n",
            "Requirement already satisfied: tzdata>=2022.7 in /usr/local/lib/python3.12/dist-packages (from pandas) (2025.2)\n",
            "Requirement already satisfied: six>=1.5 in /usr/local/lib/python3.12/dist-packages (from python-dateutil>=2.8.2->pandas) (1.17.0)\n",
            "Collecting sshtunnel==0.4.0\n",
            "  Downloading sshtunnel-0.4.0-py2.py3-none-any.whl.metadata (19 kB)\n",
            "Collecting paramiko>=2.7.2 (from sshtunnel==0.4.0)\n",
            "  Downloading paramiko-4.0.0-py3-none-any.whl.metadata (3.9 kB)\n",
            "Collecting bcrypt>=3.2 (from paramiko>=2.7.2->sshtunnel==0.4.0)\n",
            "  Downloading bcrypt-4.3.0-cp39-abi3-manylinux_2_34_x86_64.whl.metadata (10 kB)\n",
            "Requirement already satisfied: cryptography>=3.3 in /usr/local/lib/python3.12/dist-packages (from paramiko>=2.7.2->sshtunnel==0.4.0) (43.0.3)\n",
            "Collecting invoke>=2.0 (from paramiko>=2.7.2->sshtunnel==0.4.0)\n",
            "  Downloading invoke-2.2.0-py3-none-any.whl.metadata (3.3 kB)\n",
            "Collecting pynacl>=1.5 (from paramiko>=2.7.2->sshtunnel==0.4.0)\n",
            "  Downloading pynacl-1.6.0-cp38-abi3-manylinux_2_34_x86_64.whl.metadata (9.4 kB)\n",
            "Requirement already satisfied: cffi>=1.12 in /usr/local/lib/python3.12/dist-packages (from cryptography>=3.3->paramiko>=2.7.2->sshtunnel==0.4.0) (1.17.1)\n",
            "Requirement already satisfied: pycparser in /usr/local/lib/python3.12/dist-packages (from cffi>=1.12->cryptography>=3.3->paramiko>=2.7.2->sshtunnel==0.4.0) (2.22)\n",
            "Downloading sshtunnel-0.4.0-py2.py3-none-any.whl (24 kB)\n",
            "Downloading paramiko-4.0.0-py3-none-any.whl (223 kB)\n",
            "\u001b[2K   \u001b[90m━━━━━━━━━━━━━━━━━━━━━━━━━━━━━━━━━━━━━━━━\u001b[0m \u001b[32m223.9/223.9 kB\u001b[0m \u001b[31m7.7 MB/s\u001b[0m eta \u001b[36m0:00:00\u001b[0m\n",
            "\u001b[?25hDownloading bcrypt-4.3.0-cp39-abi3-manylinux_2_34_x86_64.whl (284 kB)\n",
            "\u001b[2K   \u001b[90m━━━━━━━━━━━━━━━━━━━━━━━━━━━━━━━━━━━━━━━━\u001b[0m \u001b[32m284.2/284.2 kB\u001b[0m \u001b[31m14.4 MB/s\u001b[0m eta \u001b[36m0:00:00\u001b[0m\n",
            "\u001b[?25hDownloading invoke-2.2.0-py3-none-any.whl (160 kB)\n",
            "\u001b[2K   \u001b[90m━━━━━━━━━━━━━━━━━━━━━━━━━━━━━━━━━━━━━━━━\u001b[0m \u001b[32m160.3/160.3 kB\u001b[0m \u001b[31m10.8 MB/s\u001b[0m eta \u001b[36m0:00:00\u001b[0m\n",
            "\u001b[?25hDownloading pynacl-1.6.0-cp38-abi3-manylinux_2_34_x86_64.whl (1.4 MB)\n",
            "\u001b[2K   \u001b[90m━━━━━━━━━━━━━━━━━━━━━━━━━━━━━━━━━━━━━━━━\u001b[0m \u001b[32m1.4/1.4 MB\u001b[0m \u001b[31m49.3 MB/s\u001b[0m eta \u001b[36m0:00:00\u001b[0m\n",
            "\u001b[?25hInstalling collected packages: invoke, bcrypt, pynacl, paramiko, sshtunnel\n",
            "Successfully installed bcrypt-4.3.0 invoke-2.2.0 paramiko-4.0.0 pynacl-1.6.0 sshtunnel-0.4.0\n",
            "Collecting paramiko==2.12.0\n",
            "  Downloading paramiko-2.12.0-py2.py3-none-any.whl.metadata (4.6 kB)\n",
            "Requirement already satisfied: bcrypt>=3.1.3 in /usr/local/lib/python3.12/dist-packages (from paramiko==2.12.0) (4.3.0)\n",
            "Requirement already satisfied: cryptography>=2.5 in /usr/local/lib/python3.12/dist-packages (from paramiko==2.12.0) (43.0.3)\n",
            "Requirement already satisfied: pynacl>=1.0.1 in /usr/local/lib/python3.12/dist-packages (from paramiko==2.12.0) (1.6.0)\n",
            "Requirement already satisfied: six in /usr/local/lib/python3.12/dist-packages (from paramiko==2.12.0) (1.17.0)\n",
            "Requirement already satisfied: cffi>=1.12 in /usr/local/lib/python3.12/dist-packages (from cryptography>=2.5->paramiko==2.12.0) (1.17.1)\n",
            "Requirement already satisfied: pycparser in /usr/local/lib/python3.12/dist-packages (from cffi>=1.12->cryptography>=2.5->paramiko==2.12.0) (2.22)\n",
            "Downloading paramiko-2.12.0-py2.py3-none-any.whl (213 kB)\n",
            "\u001b[2K   \u001b[90m━━━━━━━━━━━━━━━━━━━━━━━━━━━━━━━━━━━━━━━━\u001b[0m \u001b[32m213.1/213.1 kB\u001b[0m \u001b[31m5.6 MB/s\u001b[0m eta \u001b[36m0:00:00\u001b[0m\n",
            "\u001b[?25hInstalling collected packages: paramiko\n",
            "  Attempting uninstall: paramiko\n",
            "    Found existing installation: paramiko 4.0.0\n",
            "    Uninstalling paramiko-4.0.0:\n",
            "      Successfully uninstalled paramiko-4.0.0\n",
            "Successfully installed paramiko-2.12.0\n"
          ]
        }
      ]
    },
    {
      "cell_type": "markdown",
      "source": [
        "Deze query haalt van een bepaalde maand van een jaar de laatste tijd van een controle (marked_at) op van een bepaalde mentor_id op"
      ],
      "metadata": {
        "id": "iv7mw0rnOU9Y"
      }
    },
    {
      "cell_type": "code",
      "source": [
        "jaar = 2025\n",
        "maand = 5\n",
        "limiet = 10\n",
        "\n",
        "qryLaatsteDag1 = (\"\"\"select\n",
        "    ls.mentor_id AS id,\n",
        "    count(0) AS aantal,\n",
        "    max(ls.marked_at) AS marked_at_laatst,\n",
        "    cast(ls.marked_at as date) AS marked_at_date\n",
        "from learnnn.lesson_students ls\n",
        "where\n",
        "    ls.mentor_id is not null\n",
        "    and ls.marked_at is not null\n",
        "    and month(marked_at) = % s\n",
        "    and year(marked_at) = % s\n",
        "group by\n",
        "    ls.mentor_id,\n",
        "    cast(ls.marked_at as date)\n",
        "order by\n",
        "    marked_at\n",
        "                    limit 10\"\"\")"
      ],
      "metadata": {
        "id": "TuV7VwhNOQjF"
      },
      "execution_count": 3,
      "outputs": []
    },
    {
      "cell_type": "markdown",
      "source": [
        "Deze query haalt bij de mentor van de vorige query de eerste tijd van de volgende dag (bepaald in de vorige query) op"
      ],
      "metadata": {
        "id": "WPdTzODupZki"
      }
    },
    {
      "cell_type": "code",
      "source": [
        "# de query die de laatste tijd waarop de mentor\n",
        "\n",
        "\n",
        "qryEersteDag2 = (\"\"\"select\n",
        "    ls.mentor_id AS id,\n",
        "    count(0) AS aantal,\n",
        "    min(ls.marked_at) AS marked_at_eerst,\n",
        "    cast(ls.marked_at as date) AS market_at_date\n",
        "from learnnn.lesson_students ls\n",
        "where\n",
        "    ls.mentor_id is not null\n",
        "    and ls.marked_at is not null\n",
        "    and mentor_id = %s and\n",
        "    cast(ls.marked_at as date) = %s\n",
        "group by\n",
        "    ls.mentor_id,\n",
        "    cast(ls.marked_at as date)\n",
        "    \"\"\")\n",
        "\n",
        "\n"
      ],
      "metadata": {
        "id": "VOqwcK9ptdmL"
      },
      "execution_count": 4,
      "outputs": []
    },
    {
      "cell_type": "markdown",
      "source": [
        "Deze query bepaald hoeveel studenten moeten nagekeken worden maw het aantal studenten met een finished_at tussen de max marked_at tijd van dag 1 (eerste query) en de minimale marked at tijd op dag 2  "
      ],
      "metadata": {
        "id": "W52DXtwbqSp4"
      }
    },
    {
      "cell_type": "code",
      "source": [
        "\n",
        "qryAantalWachtend =  (\"\"\"select\n",
        "    count(*) as aantal\n",
        " from learnnn.lesson_students\n",
        "where finished_at BETWEEN %s AND %s\n",
        "AND mentor_id = %s\"\"\")"
      ],
      "metadata": {
        "id": "lNjff29MqTFm"
      },
      "execution_count": 5,
      "outputs": []
    },
    {
      "cell_type": "markdown",
      "source": [
        "Het enige wat we dan nog moeten bepalen is; hoeveel na te kijken studenten zijn er nog over als de mentor stopt met nakijken. Dit is echter niet zo makkelijk te bepalen want hoe weet ik wanneer een mentor gestopt is???"
      ],
      "metadata": {
        "id": "Mi9TnCVSsTag"
      }
    },
    {
      "cell_type": "code",
      "source": [
        "#query met niet nagegekeken studenten\n",
        "#dit is dezelfde query ongeveer als hierboven\n",
        "\n",
        "qryAantalgedaanIn2uur = (\"\"\"select\n",
        "    count(*) as aantal\n",
        " from learnnn.lesson_students\n",
        "where marked_at BETWEEN %s AND %s\n",
        "AND mentor_id = %s\"\"\")"
      ],
      "metadata": {
        "id": "4wDSryXgs9Mw"
      },
      "execution_count": 23,
      "outputs": []
    },
    {
      "cell_type": "markdown",
      "source": [
        "#Uitvoerende code\n",
        "\n",
        "Hier onder worden de queries uitgevoerd\n",
        "\n"
      ],
      "metadata": {
        "id": "kjmOn2MStF0d"
      }
    },
    {
      "cell_type": "code",
      "execution_count": 24,
      "metadata": {
        "colab": {
          "base_uri": "https://localhost:8080/"
        },
        "id": "yMysTK47slAK",
        "outputId": "413f98f3-ca41-46cb-bf40-6caa1a9425f3"
      },
      "outputs": [
        {
          "output_type": "stream",
          "name": "stdout",
          "text": [
            "1097755 2025-05-01 16:04:41 2025-05-02 01:23:05 10 2\n",
            "1112558 2025-05-01 22:47:06 2025-05-02 20:22:17 8 8\n",
            "668109 2025-05-01 00:28:53 2025-05-02 03:32:03 7 3\n",
            "1027990 2025-05-01 21:36:08 2025-05-02 19:19:24 18 18\n",
            "452758 2025-05-01 19:08:57 2025-05-02 17:00:53 1 2\n",
            "800557 2025-05-01 01:40:19 2025-05-02 09:11:33 51 35\n",
            "1215264 2025-05-01 09:00:49 2025-05-02 01:37:25 2 2\n"
          ]
        }
      ],
      "source": [
        "import pymysql\n",
        "import pandas as pd\n",
        "from sshtunnel import SSHTunnelForwarder\n",
        "from os.path import expanduser\n",
        "from datetime import datetime, timedelta\n",
        "\n",
        "home = expanduser('~')\n",
        "\n",
        "# if you want to use ssh password use - ssh_password='your ssh password', bellow\n",
        "\n",
        "sql_hostname = 'learnnn.cq5da2uzz5pr.eu-west-1.rds.amazonaws.com'\n",
        "sql_username = 'dbreaduser'\n",
        "sql_password = '728PNY4lvHQeDz%A69i3gF20'\n",
        "sql_main_database = 'learnnn'\n",
        "sql_port = 3306\n",
        "ssh_host = 'learnnn.com'\n",
        "ssh_user = 'dbreaduser'\n",
        "ssh_port = 22\n",
        "twee_uur = timedelta(hours=2)\n",
        "\n",
        "with SSHTunnelForwarder(\n",
        "       (ssh_host, ssh_port),\n",
        "       ssh_username=ssh_user,\n",
        "       ssh_password=sql_password,\n",
        "       remote_bind_address=(sql_hostname, sql_port)) as tunnel:\n",
        "       conn = pymysql.connect(host='127.0.0.1', user=sql_username,\n",
        "                          passwd=sql_password, db=sql_main_database,\n",
        "                          port=tunnel.local_bind_port)\n",
        "\n",
        "\n",
        "\n",
        "       with conn.cursor() as cursor:\n",
        "        cursor.execute(qryLaatsteDag1,(5,2025) )\n",
        "        columns = [column[0] for column in cursor.description]\n",
        "\n",
        "        result = cursor.fetchall()\n",
        "        for row in result:\n",
        "            mentorId = row[0]\n",
        "            tijdDag1 = row[2]\n",
        "            datum = row[3]\n",
        "            next_day = datum + timedelta(days=1)\n",
        "            test = f\"test {mentorId} {datum} {row[2]}\"\n",
        "            #print(test) #  \"mentor: \" + mentorId )\n",
        "            with conn.cursor() as cursor2:\n",
        "                cursor2.execute(qryEersteDag2,(mentorId,next_day))\n",
        "                result2 = cursor2.fetchall()\n",
        "                for row2 in result2:\n",
        "                   tijdDag2 = row2[2]\n",
        "                   #print(f\"{mentorId} {tijdDag1} {tijdDag2} \")\n",
        "                   with conn.cursor() as cursor3:\n",
        "                        cursor3.execute(qryAantalWachtend,(tijdDag1,tijdDag2,mentorId) )\n",
        "                        result3 = cursor3.fetchall()\n",
        "                        with conn.cursor() as cursor4:\n",
        "\n",
        "                            cursor4.execute(qryAantalgedaanIn2uur,(tijdDag2,tijdDag2 + twee_uur,mentorId) )\n",
        "                            result4 = cursor4.fetchall()\n",
        "                        #print(f\"{mentorId} {tijdDag1} {tijdDag2} {result3[0][0]}\")\n",
        "                        print(f\"{mentorId} {tijdDag1} {tijdDag2} {result3[0][0]} {result4[0][0]}\")\n",
        "        conn.close()"
      ]
    },
    {
      "cell_type": "code",
      "source": [],
      "metadata": {
        "id": "zoPp5eZEj8uk"
      },
      "execution_count": null,
      "outputs": []
    },
    {
      "cell_type": "code",
      "source": [],
      "metadata": {
        "id": "QXCNP3xlkH1R"
      },
      "execution_count": null,
      "outputs": []
    }
  ]
}